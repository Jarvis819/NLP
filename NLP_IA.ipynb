{
  "nbformat": 4,
  "nbformat_minor": 0,
  "metadata": {
    "colab": {
      "provenance": [],
      "authorship_tag": "ABX9TyN3B6AIQnFbK1pPpOEvGHOV",
      "include_colab_link": true
    },
    "kernelspec": {
      "name": "python3",
      "display_name": "Python 3"
    },
    "language_info": {
      "name": "python"
    }
  },
  "cells": [
    {
      "cell_type": "markdown",
      "metadata": {
        "id": "view-in-github",
        "colab_type": "text"
      },
      "source": [
        "<a href=\"https://colab.research.google.com/github/Jarvis819/NLP/blob/main/NLP_IA.ipynb\" target=\"_parent\"><img src=\"https://colab.research.google.com/assets/colab-badge.svg\" alt=\"Open In Colab\"/></a>"
      ]
    },
    {
      "cell_type": "code",
      "execution_count": null,
      "metadata": {
        "colab": {
          "base_uri": "https://localhost:8080/"
        },
        "id": "aBd6fpoobrL4",
        "outputId": "e62cb413-898a-42df-8e55-c07e35b4e672"
      },
      "outputs": [
        {
          "output_type": "stream",
          "name": "stderr",
          "text": [
            "[nltk_data] Downloading package punkt to /root/nltk_data...\n",
            "[nltk_data]   Unzipping tokenizers/punkt.zip.\n",
            "[nltk_data] Downloading package averaged_perceptron_tagger to\n",
            "[nltk_data]     /root/nltk_data...\n",
            "[nltk_data]   Unzipping taggers/averaged_perceptron_tagger.zip.\n"
          ]
        },
        {
          "output_type": "execute_result",
          "data": {
            "text/plain": [
              "True"
            ]
          },
          "metadata": {},
          "execution_count": 1
        }
      ],
      "source": [
        "import nltk\n",
        "nltk.download('punkt')\n",
        "nltk.download('averaged_perceptron_tagger')"
      ]
    },
    {
      "cell_type": "code",
      "source": [
        "paragraph1 = \"Congratulations! You have truly shown what it takes to be a leader and have earned this well-deserved recognition. Your hard work, dedication, and talent have made you an invaluable asset to the company, and I have no doubt that you will continue to thrive in this new role. You have inspired those around you to be their best selves, and I am honored to have witnessed your growth and success. Please accept my warmest congratulations on this exciting accomplishment.\"\n",
        "paragraph2 = \"Well done! Your years of hard work, late nights, and early mornings have paid off, and I am so proud of you. You have demonstrated a level of dedication and perseverance that is truly remarkable, and your future is bright with endless possibilities. You have shown the world what it means to be a true scholar, and I know that you will continue to excel in all that you do. Congratulations on this momentous achievement.\"\n",
        "paragraph3 = \"Kudos on a job well done! Your recent project was a true testament to your skills and creativity, and I am in awe of what you have accomplished. Your attention to detail, strong work ethic, and problem-solving abilities are truly inspiring, and you have set a new standard of excellence for the team. You have made a significant impact on the success of the company, and I know that your future is full of even more incredible accomplishments. Congratulations on this amazing achievement.\""
      ],
      "metadata": {
        "id": "5wA8oxjFcVUZ"
      },
      "execution_count": null,
      "outputs": []
    },
    {
      "cell_type": "code",
      "source": [
        "final_text = paragraph1 + \" \" + paragraph2 + \" \" + paragraph3"
      ],
      "metadata": {
        "id": "B0_Ww24Oc8fM"
      },
      "execution_count": null,
      "outputs": []
    },
    {
      "cell_type": "code",
      "source": [
        "congratulations_list = [\"congratulations\", \"well done\",\"well-deserved\",\"amazing accomplishment\",\"momentous\", \"accomplishment\",\"exciting\", \"kudos\", \"fantastic\", \"bravo\", \"great\", \"excellent\", \"good\", \"proud\", \"honored\", \"inspiration\", \"dedication\", \"perseverance\"]"
      ],
      "metadata": {
        "id": "aBI94pxmdDHd"
      },
      "execution_count": null,
      "outputs": []
    },
    {
      "cell_type": "code",
      "source": [
        "tokens = nltk.word_tokenize(final_text)"
      ],
      "metadata": {
        "id": "DbOaPvlVd5kf"
      },
      "execution_count": null,
      "outputs": []
    },
    {
      "cell_type": "markdown",
      "source": [
        "# Compare with a list of predefined congratulatory words"
      ],
      "metadata": {
        "id": "nzzM6D6qqw4h"
      }
    },
    {
      "cell_type": "code",
      "source": [
        "identified_congrats = []\n",
        "for token in tokens:\n",
        "    if token.lower() in congratulations_list:\n",
        "        identified_congrats.append(token)\n",
        "\n",
        "print(identified_congrats)"
      ],
      "metadata": {
        "colab": {
          "base_uri": "https://localhost:8080/"
        },
        "id": "QI8qAIfZeEHH",
        "outputId": "8cc20640-8c78-4f38-cd35-e86e16a135f1"
      },
      "execution_count": null,
      "outputs": [
        {
          "output_type": "stream",
          "name": "stdout",
          "text": [
            "['Congratulations', 'well-deserved', 'dedication', 'honored', 'congratulations', 'exciting', 'accomplishment', 'proud', 'dedication', 'perseverance', 'Congratulations', 'momentous', 'Kudos', 'Congratulations']\n"
          ]
        }
      ]
    },
    {
      "cell_type": "markdown",
      "source": [
        "# Identify parts of speech used in congratulatory messages"
      ],
      "metadata": {
        "id": "SWLEUQ85qsad"
      }
    },
    {
      "cell_type": "code",
      "source": [
        "pos_tags = nltk.pos_tag(tokens)\n",
        "congrats_words = [word for word, pos in pos_tags if pos in ('JJ', 'JJR', 'JJS', 'RB', 'RBR', 'RBS')]\n",
        "\n",
        "print(congrats_words)"
      ],
      "metadata": {
        "colab": {
          "base_uri": "https://localhost:8080/"
        },
        "id": "bQX_eP9feuBJ",
        "outputId": "c11c7bd6-25ea-4276-b411-7df19918a477"
      },
      "execution_count": null,
      "outputs": [
        {
          "output_type": "stream",
          "name": "stdout",
          "text": [
            "['truly', 'well-deserved', 'hard', 'invaluable', 'new', 'best', 'warmest', 'exciting', 'hard', 'late', 'early', 'so', 'proud', 'truly', 'remarkable', 'endless', 'true', 'momentous', 'well', 'recent', 'true', 'strong', 'problem-solving', 'truly', 'inspiring', 'new', 'significant', 'full', 'even', 'more', 'incredible', 'amazing']\n"
          ]
        }
      ]
    },
    {
      "cell_type": "markdown",
      "source": [
        "# Identify adjectives and other parts of speech used in congratulatory messages"
      ],
      "metadata": {
        "id": "f50a5IzroA-D"
      }
    },
    {
      "cell_type": "code",
      "source": [
        "pos_identified_congrats = []\n",
        "for word, pos in pos_tags:\n",
        "    if pos.startswith('JJ') or pos == 'NN' or pos == 'NNP':\n",
        "        pos_identified_congrats.append(word)\n",
        "\n",
        "\n",
        "print(pos_identified_congrats)"
      ],
      "metadata": {
        "colab": {
          "base_uri": "https://localhost:8080/"
        },
        "id": "mEIKC9q2hxZY",
        "outputId": "b50627a4-9daf-4854-b1b9-7e81f58aa54a"
      },
      "execution_count": null,
      "outputs": [
        {
          "output_type": "stream",
          "name": "stdout",
          "text": [
            "['leader', 'well-deserved', 'recognition', 'hard', 'work', 'dedication', 'talent', 'invaluable', 'asset', 'company', 'doubt', 'new', 'role', 'best', 'growth', 'success', 'Please', 'warmest', 'exciting', 'accomplishment', 'Well', 'hard', 'work', 'late', 'early', 'proud', 'level', 'dedication', 'perseverance', 'remarkable', 'future', 'endless', 'world', 'true', 'scholar', 'momentous', 'achievement', 'Kudos', 'job', 'recent', 'project', 'true', 'testament', 'creativity', 'awe', 'attention', 'strong', 'work', 'ethic', 'problem-solving', 'inspiring', 'new', 'standard', 'excellence', 'team', 'significant', 'impact', 'success', 'company', 'future', 'full', 'incredible', 'amazing', 'achievement']\n"
          ]
        }
      ]
    },
    {
      "cell_type": "markdown",
      "source": [
        "# Using regular expressions to identify congratulatory phrases"
      ],
      "metadata": {
        "id": "LyIYE7qMnnvZ"
      }
    },
    {
      "cell_type": "code",
      "source": [
        "import re\n",
        "congrats_regex = r\"(congratulations|congrats|well done|great job|kudos|amazing achievement|job well done)\"\n",
        "congrats_messages = re.findall(congrats_regex, final_text, flags=re.IGNORECASE)\n",
        "\n",
        "\n",
        "print(congrats_messages)"
      ],
      "metadata": {
        "colab": {
          "base_uri": "https://localhost:8080/"
        },
        "id": "sWPZ3fTkhtYz",
        "outputId": "cc12f299-1df4-4478-efe2-83674270c90d"
      },
      "execution_count": null,
      "outputs": [
        {
          "output_type": "stream",
          "name": "stdout",
          "text": [
            "['Congratulations', 'congratulations', 'Well done', 'Congratulations', 'Kudos', 'job well done', 'Congratulations', 'amazing achievement']\n"
          ]
        }
      ]
    },
    {
      "cell_type": "markdown",
      "source": [
        "# Identify congratulatory words using Porter stemmer\n",
        "\n",
        "\n"
      ],
      "metadata": {
        "id": "tI2YHwgMm7Tj"
      }
    },
    {
      "cell_type": "code",
      "source": [
        "from nltk.stem import PorterStemmer\n",
        "from nltk.tokenize import word_tokenize\n",
        "porter = PorterStemmer()\n",
        "tokens = word_tokenize(final_text)\n",
        "congratulatory_words = []\n",
        "\n",
        "for token in tokens:\n",
        "    stem = porter.stem(token)\n",
        "    if stem in ['congratul', 'achiev', 'deserv', 'great','accomplish']:\n",
        "        congratulatory_words.append(token)\n",
        "\n",
        "print(congratulatory_words)"
      ],
      "metadata": {
        "colab": {
          "base_uri": "https://localhost:8080/"
        },
        "id": "zR9q28BulTAq",
        "outputId": "48f62a10-cf86-44ca-a639-c9c0b252e6ac"
      },
      "execution_count": null,
      "outputs": [
        {
          "output_type": "stream",
          "name": "stdout",
          "text": [
            "['Congratulations', 'congratulations', 'accomplishment', 'Congratulations', 'achievement', 'accomplished', 'accomplishments', 'Congratulations', 'achievement']\n"
          ]
        }
      ]
    }
  ]
}